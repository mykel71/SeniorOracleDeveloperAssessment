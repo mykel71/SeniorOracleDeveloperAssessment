{
 "cells": [
  {
   "cell_type": "markdown",
   "metadata": {},
   "source": [
    "### STEP 1: Extract(Read CSV Data)\n",
    "Assuming the data is coming through a CSV File"
   ]
  },
  {
   "cell_type": "code",
   "execution_count": 10,
   "metadata": {},
   "outputs": [],
   "source": [
    "import os\n",
    "import pandas as pd\n",
    "\n",
    "# Load CSV files into Pandas DataFrames\n",
    "advisers_df = pd.read_csv(\"data/Advisers.csv\")\n",
    "clients_df = pd.read_csv(\"data/Clients.csv\")\n",
    "transactions_df = pd.read_csv(\"data/Transactions.csv\")\n",
    "\n",
    "# Display the first few rows to verify data"
   ]
  },
  {
   "cell_type": "code",
   "execution_count": 11,
   "metadata": {},
   "outputs": [
    {
     "name": "stdout",
     "output_type": "stream",
     "text": [
      "   TransactionID                   Type     Amount  ClientID TransactionDate  \\\n",
      "0              1           New Business  1000000.0         1      2025/05/01   \n",
      "1              2           New Business   500000.0         2      2025/05/01   \n",
      "2              3  Additional investment    10000.0         1      2025/09/01   \n",
      "3              4           New Business  3000000.0         3      2025/10/01   \n",
      "4              5           New Business     3000.0         4      2025/01/15   \n",
      "\n",
      "  Currency  \n",
      "0      ZAR  \n",
      "1      ZAR  \n",
      "2      ZAR  \n",
      "3      ZAR  \n",
      "4      USD  \n"
     ]
    }
   ],
   "source": [
    "print(transactions_df.head())"
   ]
  },
  {
   "cell_type": "markdown",
   "metadata": {},
   "source": [
    "### Step 2: Transform (Clean & Prepare Data)\n",
    "Ensure the data types match those expected by SQL Server."
   ]
  },
  {
   "cell_type": "code",
   "execution_count": 12,
   "metadata": {},
   "outputs": [],
   "source": [
    "\n",
    "# Convert data types if necessary\n",
    "transactions_df['TransactionDate'] = pd.to_datetime(transactions_df['TransactionDate'])\n"
   ]
  },
  {
   "cell_type": "markdown",
   "metadata": {},
   "source": [
    "### Step 3: Load (Insert into SQL Server)\n",
    "This loads data from CSV into the SQL Server database."
   ]
  },
  {
   "cell_type": "code",
   "execution_count": 13,
   "metadata": {},
   "outputs": [
    {
     "name": "stdout",
     "output_type": "stream",
     "text": [
      "Data inserted successfully!\n"
     ]
    }
   ],
   "source": [
    "import pyodbc\n",
    "\n",
    "# Database Connection\n",
    "conn = pyodbc.connect('DRIVER={SQL Server};SERVER=MICHAELS;DATABASE=SQLAssessmentDB;Trusted_Connection=yes;')\n",
    "cursor = conn.cursor()\n",
    "\n",
    "# Function to insert data\n",
    "def insert_data(table_name, df):\n",
    "    for index, row in df.iterrows():\n",
    "        cols = \", \".join(df.columns)\n",
    "        values = \", \".join([\"?\" for _ in row])\n",
    "        sql = f\"INSERT INTO {table_name} ({cols}) VALUES ({values})\"\n",
    "        cursor.execute(sql, tuple(row))\n",
    "    conn.commit()\n",
    "\n",
    "# Insert data\n",
    "insert_data(\"Advisers\", advisers_df)\n",
    "insert_data(\"Clients\", clients_df)\n",
    "insert_data(\"Transactions\", transactions_df)\n",
    "\n",
    "print(\"Data inserted successfully!\")\n",
    "\n",
    "# Close connection\n",
    "cursor.close()\n",
    "conn.close()\n"
   ]
  },
  {
   "cell_type": "markdown",
   "metadata": {},
   "source": [
    "### Step 5: Export Reports to CSV\n",
    "We now export these reports as CSV."
   ]
  },
  {
   "cell_type": "code",
   "execution_count": 16,
   "metadata": {},
   "outputs": [
    {
     "name": "stdout",
     "output_type": "stream",
     "text": [
      "Reports generated successfully!\n"
     ]
    },
    {
     "name": "stderr",
     "output_type": "stream",
     "text": [
      "C:\\Users\\sheph\\AppData\\Local\\Temp\\ipykernel_61416\\2777939580.py:22: UserWarning: pandas only supports SQLAlchemy connectable (engine/connection) or database string URI or sqlite3 DBAPI2 connection. Other DBAPI2 objects are not tested. Please consider using SQLAlchemy.\n",
      "  df = pd.read_sql(query, conn)\n"
     ]
    }
   ],
   "source": [
    "# Reconnect to SQL Server\n",
    "conn = pyodbc.connect('DRIVER={SQL Server};SERVER=MICHAELS;DATABASE=SQLAssessmentDB;Trusted_Connection=yes;')\n",
    "\n",
    "# Queries for reports\n",
    "queries = {\n",
    "    \"reports/financial_adviser_report.csv\": \"\"\"\n",
    "        SELECT a.Name AS AdvisorName, c.Name AS ClientName, c.Telephone \n",
    "        FROM Advisers a\n",
    "        JOIN Clients c ON a.AdvisorID = c.AdvisorID\n",
    "        ORDER BY a.Name;\n",
    "    \"\"\",\n",
    "    \"reports/client_transaction_report.csv\": \"\"\"\n",
    "        SELECT c.Name AS ClientName, t.Type, t.Amount, t.TransactionDate, t.Currency\n",
    "        FROM Clients c\n",
    "        JOIN Transactions t ON c.ClientID = t.ClientID\n",
    "        ORDER BY c.Name, t.TransactionDate;\n",
    "    \"\"\"\n",
    "}\n",
    "\n",
    "# Export results\n",
    "for filename, query in queries.items():\n",
    "    df = pd.read_sql(query, conn)\n",
    "    df.to_csv(filename, index=False)\n",
    "\n",
    "print(\"Reports generated successfully!\")\n",
    "\n",
    "# Close connection\n",
    "conn.close()\n"
   ]
  },
  {
   "cell_type": "code",
   "execution_count": null,
   "metadata": {},
   "outputs": [],
   "source": []
  }
 ],
 "metadata": {
  "kernelspec": {
   "display_name": "base",
   "language": "python",
   "name": "python3"
  },
  "language_info": {
   "codemirror_mode": {
    "name": "ipython",
    "version": 3
   },
   "file_extension": ".py",
   "mimetype": "text/x-python",
   "name": "python",
   "nbconvert_exporter": "python",
   "pygments_lexer": "ipython3",
   "version": "3.12.7"
  }
 },
 "nbformat": 4,
 "nbformat_minor": 2
}
